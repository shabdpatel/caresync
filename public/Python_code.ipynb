{
 "cells": [
  {
   "cell_type": "markdown",
   "id": "7bd9938e",
   "metadata": {},
   "source": [
    "# Satellite Image Processing in Python\n",
    "This notebook demonstrates how to calculate NDVI, NDWI, and EVI indices from satellite images using Python. Follow the step-by-step guide below."
   ]
  },
  {
   "cell_type": "markdown",
   "id": "47af98a3",
   "metadata": {},
   "source": [
    "## Step 1: Install Required Libraries\n",
    "Ensure you have the required Python libraries installed:\n",
    "- `rasterio`: For handling GeoTIFF files\n",
    "- `numpy`: For numerical operations\n",
    "- `matplotlib`: For visualization\n",
    "\n",
    "Run the following command in your terminal if not already installed:\n",
    "```bash\n",
    "pip install rasterio numpy matplotlib\n",
    "```"
   ]
  },
  {
   "cell_type": "markdown",
   "id": "20257f23",
   "metadata": {},
   "source": [
    "## Step 2: Load the Satellite Image\n",
    "Use `rasterio` to open the GeoTIFF image and explore its metadata. Replace `image_path` with the path to your satellite image file."
   ]
  },
  {
   "cell_type": "code",
   "execution_count": null,
   "id": "c5706041",
   "metadata": {},
   "outputs": [],
   "source": [
    "import rasterio\n",
    "import numpy as np\n",
    "\n",
    "# Load the satellite image file (GeoTIFF format)\n",
    "image_path = \"path_to_your_satellite_image.tif\"  # Replace with the actual file path\n",
    "\n",
    "# Open the file using rasterio\n",
    "dataset = rasterio.open(image_path)\n",
    "\n",
    "# Print basic information about the image\n",
    "print(f\"Number of bands: {dataset.count}\")\n",
    "print(f\"Image dimensions: {dataset.width}x{dataset.height}\")\n",
    "print(f\"Coordinate Reference System: {dataset.crs}\")"
   ]
  },
  {
   "cell_type": "markdown",
   "id": "b2d683f8",
   "metadata": {},
   "source": [
    "## Step 3: Extract Individual Bands\n",
    "Identify the bands required for calculating NDVI, NDWI, and EVI. This example assumes Landsat 8:\n",
    "- **Red Band**: Band 4\n",
    "- **NIR Band**: Band 5\n",
    "- **Green Band**: Band 3\n",
    "- **Blue Band**: Band 2"
   ]
  },
  {
   "cell_type": "code",
   "execution_count": null,
   "id": "6d45c092",
   "metadata": {},
   "outputs": [],
   "source": [
    "# Read the necessary bands\n",
    "red = dataset.read(4)   # Band 4: Red\n",
    "nir = dataset.read(5)   # Band 5: NIR\n",
    "green = dataset.read(3) # Band 3: Green\n",
    "blue = dataset.read(2)  # Band 2: Blue"
   ]
  },
  {
   "cell_type": "markdown",
   "id": "abaa38ff",
   "metadata": {},
   "source": [
    "## Step 4: Compute NDVI, NDWI, and EVI\n",
    "Use the formulas below to calculate each index:\n",
    "- **NDVI**: `(NIR - Red) / (NIR + Red)`\n",
    "- **NDWI**: `(Green - NIR) / (Green + NIR)`\n",
    "- **EVI**: `G * (NIR - Red) / (NIR + C1 * Red - C2 * Blue + L)`\n",
    "Where:\n",
    "- `G = 2.5`, `C1 = 6.0`, `C2 = 7.5`, `L = 1.0`"
   ]
  },
  {
   "cell_type": "code",
   "execution_count": null,
   "id": "af5a302c",
   "metadata": {},
   "outputs": [],
   "source": [
    "# Avoid division by zero using a small constant (e.g., 1e-10)\n",
    "ndvi = (nir - red) / (nir + red + 1e-10)\n",
    "\n",
    "ndwi = (green - nir) / (green + nir + 1e-10)\n",
    "\n",
    "# EVI constants\n",
    "G, C1, C2, L = 2.5, 6.0, 7.5, 1.0\n",
    "evi = G * (nir - red) / (nir + C1 * red - C2 * blue + L + 1e-10)"
   ]
  },
  {
   "cell_type": "markdown",
   "id": "3ba80c11",
   "metadata": {},
   "source": [
    "## Step 5: Visualize the Results\n",
    "Use `matplotlib` to plot NDVI, NDWI, and EVI values."
   ]
  },
  {
   "cell_type": "code",
   "execution_count": null,
   "id": "8b419c2f",
   "metadata": {},
   "outputs": [],
   "source": [
    "import matplotlib.pyplot as plt\n",
    "\n",
    "# Plot NDVI\n",
    "plt.figure(figsize=(10, 8))\n",
    "plt.title(\"NDVI\")\n",
    "plt.imshow(ndvi, cmap='RdYlGn')  # Red-Green colormap for vegetation\n",
    "plt.colorbar()\n",
    "plt.show()\n",
    "\n",
    "# Plot NDWI\n",
    "plt.figure(figsize=(10, 8))\n",
    "plt.title(\"NDWI\")\n",
    "plt.imshow(ndwi, cmap='Blues')  # Blue colormap for water\n",
    "plt.colorbar()\n",
    "plt.show()\n",
    "\n",
    "# Plot EVI\n",
    "plt.figure(figsize=(10, 8))\n",
    "plt.title(\"EVI\")\n",
    "plt.imshow(evi, cmap='YlGn')  # Yellow-Green colormap for vegetation\n",
    "plt.colorbar()\n",
    "plt.show()"
   ]
  },
  {
   "cell_type": "markdown",
   "id": "ce5ddd11",
   "metadata": {},
   "source": [
    "## Step 6: Save the Indices as GeoTIFF\n",
    "Save the computed indices for further use or sharing."
   ]
  },
  {
   "cell_type": "code",
   "execution_count": null,
   "id": "9f10c270",
   "metadata": {},
   "outputs": [],
   "source": [
    "from rasterio.transform import from_bounds\n",
    "\n",
    "# Define metadata for output file\n",
    "meta = dataset.meta\n",
    "meta.update(driver='GTiff', dtype='float32', count=1)\n",
    "\n",
    "# Save NDVI\n",
    "with rasterio.open(\"ndvi_output.tif\", 'w', **meta) as dst:\n",
    "    dst.write(ndvi.astype(np.float32), 1)\n",
    "\n",
    "# Save NDWI\n",
    "with rasterio.open(\"ndwi_output.tif\", 'w', **meta) as dst:\n",
    "    dst.write(ndwi.astype(np.float32), 1)\n",
    "\n",
    "# Save EVI\n",
    "with rasterio.open(\"evi_output.tif\", 'w', **meta) as dst:\n",
    "    dst.write(evi.astype(np.float32), 1)"
   ]
  }
 ],
 "metadata": {
  "language_info": {
   "name": "python"
  }
 },
 "nbformat": 4,
 "nbformat_minor": 5
}
